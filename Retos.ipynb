{
  "nbformat": 4,
  "nbformat_minor": 0,
  "metadata": {
    "colab": {
      "name": "Retos.ipynb",
      "provenance": [],
      "authorship_tag": "ABX9TyNHLz7fOYcJgi508rgFRGei",
      "include_colab_link": true
    },
    "kernelspec": {
      "name": "python3",
      "display_name": "Python 3"
    },
    "language_info": {
      "name": "python"
    }
  },
  "cells": [
    {
      "cell_type": "markdown",
      "metadata": {
        "id": "view-in-github",
        "colab_type": "text"
      },
      "source": [
        "<a href=\"https://colab.research.google.com/github/Pedro-Castiblanco/TrabajosProgramacionAplicada/blob/main/Retos.ipynb\" target=\"_parent\"><img src=\"https://colab.research.google.com/assets/colab-badge.svg\" alt=\"Open In Colab\"/></a>"
      ]
    },
    {
      "cell_type": "code",
      "execution_count": 22,
      "metadata": {
        "colab": {
          "base_uri": "https://localhost:8080/"
        },
        "id": "cff_uI9yDp-m",
        "outputId": "73a803b2-e08d-4f6b-cd3c-b4f151542689"
      },
      "outputs": [
        {
          "output_type": "stream",
          "name": "stdout",
          "text": [
            "93 -El numero esta entre 50 y 100\n"
          ]
        }
      ],
      "source": [
        "'Ejercicio 6'\n",
        "import random\n",
        "\n",
        "N=random.randrange(1, 120, 1)\n",
        "if N<=10:\n",
        "  print(str(N)+' -El numero es menor a 10')\n",
        "elif N>10 and N<=50:\n",
        "  print(str(N)+' -El numero esta entre 10 y 50')\n",
        "elif N>50 and N<=100:\n",
        "  print(str(N)+' -El numero esta entre 50 y 100')  \n",
        "elif N>100:\n",
        "  print(str(N)+' -El numero es mayor a 100') "
      ]
    },
    {
      "cell_type": "code",
      "source": [
        "'Ejercicio 8'\n",
        "x = range(10, 21)\n",
        "for n in x:\n",
        "  if n%2==0:\n",
        "    print(n)"
      ],
      "metadata": {
        "colab": {
          "base_uri": "https://localhost:8080/"
        },
        "id": "rOb_plsQGu41",
        "outputId": "54e1c44d-a875-46e5-cb5d-3f3519719085"
      },
      "execution_count": 25,
      "outputs": [
        {
          "output_type": "stream",
          "name": "stdout",
          "text": [
            "10\n",
            "12\n",
            "14\n",
            "16\n",
            "18\n",
            "20\n"
          ]
        }
      ]
    },
    {
      "cell_type": "code",
      "source": [
        "'Ejercicio 9'\n",
        "y=0\n",
        "x = range(0, 31,3)\n",
        "for n in x:\n",
        "  y=y+n\n",
        "  print(n)\n",
        "print('La suma de los valores es '+str(y))\n"
      ],
      "metadata": {
        "colab": {
          "base_uri": "https://localhost:8080/"
        },
        "id": "AK-RnrXYISZv",
        "outputId": "ff77fd38-fd03-4c26-b917-d064c50b32e6"
      },
      "execution_count": 29,
      "outputs": [
        {
          "output_type": "stream",
          "name": "stdout",
          "text": [
            "0\n",
            "3\n",
            "6\n",
            "9\n",
            "12\n",
            "15\n",
            "18\n",
            "21\n",
            "24\n",
            "27\n",
            "30\n",
            "La suma de los valores es 165\n"
          ]
        }
      ]
    },
    {
      "cell_type": "code",
      "source": [
        "'Ejercicio 10'\n",
        "'Un tablero de ajadrez es 8x8'\n",
        "y=0\n",
        "x = range(0,65)\n",
        "for n in x:\n",
        "  y=y+n\n",
        "  #print (n)\n",
        "print('Se nesecitan '+str(y)+' granos para llenar un tablero de ajedrez')"
      ],
      "metadata": {
        "colab": {
          "base_uri": "https://localhost:8080/"
        },
        "id": "8bwsxTNxI_qU",
        "outputId": "d2cc1eef-757b-400b-afdc-7a53fd2bc95e"
      },
      "execution_count": 31,
      "outputs": [
        {
          "output_type": "stream",
          "name": "stdout",
          "text": [
            "Se nesecitan 2080 granos para llenar un tablero de ajedrez\n"
          ]
        }
      ]
    },
    {
      "cell_type": "code",
      "source": [
        "'Ejercicio 13'\n",
        "'La media es sumar un numero x de datos y dividirlo entre la misma cantidad x de datos'\n",
        "a=input('Ingreasar numero 1:')\n",
        "b=input('Ingreasar numero 2:')\n",
        "x=(int(a)+int(b))/2\n",
        "print(x)"
      ],
      "metadata": {
        "colab": {
          "base_uri": "https://localhost:8080/"
        },
        "id": "YJzWqk6yK0XJ",
        "outputId": "d95c6d09-5f86-4c54-ddb1-26f026cffbdd"
      },
      "execution_count": 37,
      "outputs": [
        {
          "output_type": "stream",
          "name": "stdout",
          "text": [
            "Ingreasar numero 1:2000\n",
            "Ingreasar numero 2:10\n",
            "1005.0\n"
          ]
        }
      ]
    }
  ]
}