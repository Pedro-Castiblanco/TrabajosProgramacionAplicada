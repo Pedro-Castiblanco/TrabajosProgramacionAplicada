{
  "nbformat": 4,
  "nbformat_minor": 0,
  "metadata": {
    "colab": {
      "name": "Sumatorias.ipynb",
      "provenance": [],
      "authorship_tag": "ABX9TyOT6LfXwiZ+nJJY7MoyW7L/",
      "include_colab_link": true
    },
    "kernelspec": {
      "name": "python3",
      "display_name": "Python 3"
    },
    "language_info": {
      "name": "python"
    }
  },
  "cells": [
    {
      "cell_type": "markdown",
      "metadata": {
        "id": "view-in-github",
        "colab_type": "text"
      },
      "source": [
        "<a href=\"https://colab.research.google.com/github/Pedro-Castiblanco/TrabajosProgramacionAplicada/blob/pv3-ciclos/Sumatorias.ipynb\" target=\"_parent\"><img src=\"https://colab.research.google.com/assets/colab-badge.svg\" alt=\"Open In Colab\"/></a>"
      ]
    },
    {
      "cell_type": "code",
      "metadata": {
        "id": "rHbUSAC4Gi3G"
      },
      "source": [
        "def Sumatoria1(A,B,C):\n",
        "  n=len(A)\n",
        "  i=0\n",
        "  e=0\n",
        "  while i < n:\n",
        "    d = A[i]*B[i]+C[i]\n",
        "    e=e+d\n",
        "    i+=1\n",
        "\n",
        "  S=e+n*n\n",
        "  print('El resultado es: '),print(S)"
      ],
      "execution_count": 80,
      "outputs": []
    },
    {
      "cell_type": "code",
      "metadata": {
        "colab": {
          "base_uri": "https://localhost:8080/"
        },
        "id": "ICXpCpC7J9ch",
        "outputId": "22ac66e7-825e-4051-b3c6-5e2233d6d9a9"
      },
      "source": [
        "A=[1,1,1]\n",
        "B=[2,2,2]\n",
        "C=[3,3,3]\n",
        "Sumatoria1(A,B,C)"
      ],
      "execution_count": 81,
      "outputs": [
        {
          "output_type": "stream",
          "name": "stdout",
          "text": [
            "El resultado es: \n",
            "24\n"
          ]
        }
      ]
    },
    {
      "cell_type": "code",
      "metadata": {
        "id": "Pcqo4vQORHkB"
      },
      "source": [
        "def Sumatoria2(A,B):\n",
        "  n=len(A)//2\n",
        "  C=[]\n",
        "  i=0\n",
        "  while i<n:\n",
        "    x=A[i+1]**2\n",
        "    y=B[2*i]*x\n",
        "    z=y+B[n+i]\n",
        "    i+=1\n",
        "    C.append(z)\n",
        "  return C"
      ],
      "execution_count": 101,
      "outputs": []
    },
    {
      "cell_type": "code",
      "metadata": {
        "colab": {
          "base_uri": "https://localhost:8080/"
        },
        "id": "Lzo53cYjUCFo",
        "outputId": "f4d9ef82-e5b4-453c-f07f-bfddd38c9aaa"
      },
      "source": [
        "A=[1,2,3,4]\n",
        "B=[5,6,7,8]\n",
        "Sumatoria2(A,B)"
      ],
      "execution_count": 102,
      "outputs": [
        {
          "output_type": "execute_result",
          "data": {
            "text/plain": [
              "[27, 71]"
            ]
          },
          "metadata": {},
          "execution_count": 102
        }
      ]
    }
  ]
}