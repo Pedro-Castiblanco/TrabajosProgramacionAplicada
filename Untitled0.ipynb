{
  "nbformat": 4,
  "nbformat_minor": 0,
  "metadata": {
    "colab": {
      "name": "Untitled0.ipynb",
      "provenance": [],
      "authorship_tag": "ABX9TyMyhwqeEWRHPFrCiXufdjxg",
      "include_colab_link": true
    },
    "kernelspec": {
      "name": "python3",
      "display_name": "Python 3"
    },
    "language_info": {
      "name": "python"
    }
  },
  "cells": [
    {
      "cell_type": "markdown",
      "metadata": {
        "id": "view-in-github",
        "colab_type": "text"
      },
      "source": [
        "<a href=\"https://colab.research.google.com/github/Pedro-Castiblanco/TrabajosProgramacionAplicada/blob/main/Untitled0.ipynb\" target=\"_parent\"><img src=\"https://colab.research.google.com/assets/colab-badge.svg\" alt=\"Open In Colab\"/></a>"
      ]
    },
    {
      "cell_type": "code",
      "metadata": {
        "colab": {
          "base_uri": "https://localhost:8080/"
        },
        "id": "UrUy9R14Yoop",
        "outputId": "9f16a6f7-4c29-4ec7-cc15-c22f3d5418ae"
      },
      "source": [
        "  archivo = open('palabras500.csv', encoding=\"utf-8\")\n",
        "  lineas = archivo.readlines()\n",
        "  archivo.close"
      ],
      "execution_count": 4,
      "outputs": [
        {
          "output_type": "execute_result",
          "data": {
            "text/plain": [
              "<function TextIOWrapper.close>"
            ]
          },
          "metadata": {},
          "execution_count": 4
        }
      ]
    },
    {
      "cell_type": "code",
      "metadata": {
        "id": "rr0QpLgfYrCZ"
      },
      "source": [
        "def rima():\n",
        "  palabra = input(' Escriba la terminacion de la palabra:')\n",
        "  p = 0\n",
        "  p1=len(palabra)\n",
        "  while p < 500: \n",
        "    p2 = len(lineas[p])\n",
        "\n",
        "    if  palabra[p1-1]==lineas[p][p2-2] and palabra[p1-2]==lineas[p][p2-3]:\n",
        "      print(lineas[p]) \n",
        "\n",
        "    p+=1\n",
        "\n",
        "  else :\n",
        "    print('------')   \n",
        "  \n"
      ],
      "execution_count": 5,
      "outputs": []
    },
    {
      "cell_type": "code",
      "metadata": {
        "colab": {
          "base_uri": "https://localhost:8080/"
        },
        "id": "Ea8E5F5lYuuh",
        "outputId": "7b46e86f-b8c2-4788-e6a2-eab202edfd00"
      },
      "source": [
        "rima()"
      ],
      "execution_count": 6,
      "outputs": [
        {
          "output_type": "stream",
          "name": "stdout",
          "text": [
            " Escriba la terminacion de la palabra:ia\n",
            "historia\n",
            "\n",
            "hacia\n",
            "\n",
            "familia\n",
            "\n",
            "provincia\n",
            "\n",
            "experiencia\n",
            "\n",
            "justicia\n",
            "\n",
            "presencia\n",
            "\n",
            "materia\n",
            "\n",
            "------\n"
          ]
        }
      ]
    }
  ]
}